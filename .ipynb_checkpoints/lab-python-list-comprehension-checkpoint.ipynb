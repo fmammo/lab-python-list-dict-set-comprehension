{
 "cells": [
  {
   "cell_type": "markdown",
   "metadata": {},
   "source": [
    "# Lab | List, Dict and Set Comprehension"
   ]
  },
  {
   "cell_type": "markdown",
   "metadata": {},
   "source": [
    "## Exercise: Managing Customer Orders Optimized with Comprehension"
   ]
  },
  {
   "cell_type": "markdown",
   "metadata": {},
   "source": [
    "In the previous exercise, you developed a program to manage customer orders and inventory. Now, let's take it a step further and incorporate comprehension into your code.\n",
    "\n",
    "Follow the steps below to complete the exercise:\n",
    "\n",
    "1. Review your code from the previous exercise and identify areas where you can apply comprehension to simplify and streamline your code. \n",
    "\n",
    "    - *Hint: Apply it to initialize inventory, updating the inventory and printing the updated inventory.*\n",
    "    \n",
    "    - For example, in initializing the inventory, we could have:\n",
    "    \n",
    "        ```python\n",
    "        def initialize_inventory(products):\n",
    "            inventory = {product: int(input(f\"Enter the quantity of {product}s available: \")) for product in products}\n",
    "            return inventory\n",
    "\n",
    "        ```\n",
    "<br>\n",
    "    \n",
    "    \n",
    "2. Modify the function get_customer_orders so it prompts the user to enter the number of customer orders and gathers the product names using a loop and user input. Use comprehension.\n",
    "\n",
    "3. Add a new function to calculate the total price of the customer order. For each product in customer_orders, prompt the user to enter the price of that product. Use comprehension to calculate the total price. Note: assume that the user can only have 1 unit of each product.\n",
    "\n",
    "4. Modify the update_inventory function to remove the product from the inventory if its quantity becomes zero after fulfilling the customer orders. Use comprehension to filter out the products with a quantity of zero from the inventory.\n",
    "\n",
    "5. Print the total price of the customer order.\n",
    "\n",
    "Your code should produce output similar to the following:\n",
    "\n",
    "```python\n",
    "Enter the quantity of t-shirts available:  5\n",
    "Enter the quantity of mugs available:  4\n",
    "Enter the quantity of hats available:  3\n",
    "Enter the quantity of books available:  2\n",
    "Enter the quantity of keychains available:  1\n",
    "Enter the number of customer orders:  2\n",
    "Enter the name of a product that a customer wants to order:  hat\n",
    "Enter the name of a product that a customer wants to order:  keychain\n",
    "\n",
    "Order Statistics:\n",
    "Total Products Ordered: 2\n",
    "Percentage of Unique Products Ordered: 40.0\n",
    "\n",
    "Updated Inventory:\n",
    "t-shirt: 5\n",
    "mug: 4\n",
    "hat: 2\n",
    "book: 2\n",
    "Enter the price of keychain:  5\n",
    "Enter the price of hat:  10\n",
    "Total Price: 15.0\n",
    "\n",
    "```\n"
   ]
  },
  {
   "cell_type": "markdown",
   "metadata": {},
   "source": [
    "## Solution"
   ]
  },
  {
   "cell_type": "code",
   "execution_count": 1,
   "metadata": {},
   "outputs": [],
   "source": [
    "# Initializing a dictionary called \"inventory\"\n",
    "products = [\"t-shirt\", \"mug\", \"hat\", \"book\", \"keychain\"]\n",
    "inventory = {}\n",
    "\n",
    "def initialize_inventory(products):\n",
    "    inventory = {product: int(input(f\"Enter the quantity of {product}s available: \")) for product in products}\n",
    "    return inventory"
   ]
  },
  {
   "cell_type": "code",
   "execution_count": 2,
   "metadata": {},
   "outputs": [
    {
     "name": "stdout",
     "output_type": "stream",
     "text": [
      "Enter the quantity of t-shirts available: 12\n",
      "Enter the quantity of mugs available: 34\n",
      "Enter the quantity of hats available: 15\n",
      "Enter the quantity of books available: 67\n",
      "Enter the quantity of keychains available: 23\n"
     ]
    },
    {
     "data": {
      "text/plain": [
       "{'t-shirt': 12, 'mug': 34, 'hat': 15, 'book': 67, 'keychain': 23}"
      ]
     },
     "execution_count": 2,
     "metadata": {},
     "output_type": "execute_result"
    }
   ],
   "source": [
    "# Calling the function\n",
    "initialize_inventory(products)"
   ]
  },
  {
   "cell_type": "code",
   "execution_count": 4,
   "metadata": {
    "scrolled": true
   },
   "outputs": [
    {
     "name": "stdout",
     "output_type": "stream",
     "text": [
      "List of products:  ['t-shirt', 'mug', 'hat', 'book', 'keychain']\n",
      "\n",
      "Please enter the quantity for the above products separated by space: 1 3 2 5 8 5\n"
     ]
    }
   ],
   "source": [
    "# Getting the product order value from the customers then update inventory \n",
    "products = [\"t-shirt\", \"mug\", \"hat\", \"book\", \"keychain\"]\n",
    "print(\"List of products: \", products)\n",
    "print()\n",
    "customer_orders = [int(num) for num in input(\"Please enter the quantity for the above products separated by space: \").strip().split()[:5]]\n",
    "    \n",
    "def update_inventory(products,customer_orders):\n",
    "    inventory = {products:customer_orders for products, customer_orders in zip(products, customer_orders)}\n",
    "    return inventory"
   ]
  },
  {
   "cell_type": "code",
   "execution_count": 5,
   "metadata": {},
   "outputs": [
    {
     "data": {
      "text/plain": [
       "{'t-shirt': 1, 'mug': 3, 'hat': 2, 'book': 5, 'keychain': 8}"
      ]
     },
     "execution_count": 5,
     "metadata": {},
     "output_type": "execute_result"
    }
   ],
   "source": [
    "# Calling the function\n",
    "update_inventory(products,customer_orders)"
   ]
  },
  {
   "cell_type": "code",
   "execution_count": 6,
   "metadata": {},
   "outputs": [],
   "source": [
    "# Modifying the function 'get_customer_orders'\n",
    "def get_customer_orders():\n",
    "    input_ =int(input(\"Please enter the number of customer orders: \"))\n",
    "    print()\n",
    "    products = [\"t-shirt\", \"mug\", \"hat\", \"book\", \"keychain\"]\n",
    "    print(products)\n",
    "    print()\n",
    "    customer_orders = [str(num) for num in input(\"Enter the name of a product that a customer wants to order from the above listed products separated by space: \").strip().split()[:input_]]\n",
    "    return customer_orders\n",
    "    "
   ]
  },
  {
   "cell_type": "code",
   "execution_count": 7,
   "metadata": {},
   "outputs": [
    {
     "name": "stdout",
     "output_type": "stream",
     "text": [
      "Please enter the number of customer orders: 2\n",
      "\n",
      "['t-shirt', 'mug', 'hat', 'book', 'keychain']\n",
      "\n",
      "Enter the name of a product that a customer wants to order from the above listed products separated by space: mug book\n"
     ]
    },
    {
     "data": {
      "text/plain": [
       "['mug', 'book']"
      ]
     },
     "execution_count": 7,
     "metadata": {},
     "output_type": "execute_result"
    }
   ],
   "source": [
    "# Calling the function\n",
    "get_customer_orders()"
   ]
  },
  {
   "cell_type": "code",
   "execution_count": 8,
   "metadata": {},
   "outputs": [],
   "source": [
    "# Calculate order statstics\n",
    "def order_statstics():\n",
    "    input_ =int(input(\"Please enter the number of customer orders: \"))\n",
    "    print()\n",
    "    products = [\"t-shirt\", \"mug\", \"hat\", \"book\", \"keychain\"]\n",
    "    print(products)\n",
    "    print()\n",
    "    customer_orders = [str(num) for num in input(\"Enter the name of a product that a customer wants to order from the above listed products separated by space: \").strip().split()[:input_]]\n",
    "\n",
    "    print()\n",
    "    print(\"Order Statstics: \")\n",
    "    print(\"Total products ordered: \",input_)\n",
    "    print(\"Percentage of Unique Products Ordered: \",input_/len(products)*100)\n",
    "    "
   ]
  },
  {
   "cell_type": "code",
   "execution_count": 9,
   "metadata": {},
   "outputs": [
    {
     "name": "stdout",
     "output_type": "stream",
     "text": [
      "Please enter the number of customer orders: 3\n",
      "\n",
      "['t-shirt', 'mug', 'hat', 'book', 'keychain']\n",
      "\n",
      "Enter the name of a product that a customer wants to order from the above listed products separated by space: hat book mug\n",
      "\n",
      "Order Statstics: \n",
      "Total products ordered:  3\n",
      "Percentage of Unique Products Ordered:  60.0\n"
     ]
    }
   ],
   "source": [
    "# Calling the function\n",
    "order_statstics()"
   ]
  },
  {
   "cell_type": "code",
   "execution_count": 10,
   "metadata": {},
   "outputs": [],
   "source": [
    "# Updating the update_inventory function\n",
    "def update_inventory():\n",
    "    \n",
    "    input_ =int(input(\"Please enter the number of customer orders: \"))\n",
    "    print()\n",
    "    products = [\"t-shirt\", \"mug\", \"hat\", \"book\", \"keychain\"]\n",
    "    print(products)\n",
    "    print()\n",
    "    customer_orders = [str(num) for num in input(\"Enter the name of a product that a customer wants to order from the above listed products separated by space: \").strip().split()[:input_]]\n",
    "    print()\n",
    "    enter_price = [int(num) for num in input(f\"Enter the price of {customer_orders} in separated space: \").strip().split()]\n",
    "    print()\n",
    "    total_price = sum(enter_price)\n",
    "    print(\"Total price: \", total_price)"
   ]
  },
  {
   "cell_type": "code",
   "execution_count": 11,
   "metadata": {},
   "outputs": [
    {
     "name": "stdout",
     "output_type": "stream",
     "text": [
      "Please enter the number of customer orders: 4\n",
      "\n",
      "['t-shirt', 'mug', 'hat', 'book', 'keychain']\n",
      "\n",
      "Enter the name of a product that a customer wants to order from the above listed products separated by space: mug hat t-shirt book\n",
      "\n",
      "Enter the price of ['mug', 'hat', 't-shirt', 'book'] in separated space: 12 34 90 67 \n",
      "\n",
      "Total price:  203\n"
     ]
    }
   ],
   "source": [
    "# Calling the function\n",
    "update_inventory()"
   ]
  }
 ],
 "metadata": {
  "kernelspec": {
   "display_name": "Python 3",
   "language": "python",
   "name": "python3"
  },
  "language_info": {
   "codemirror_mode": {
    "name": "ipython",
    "version": 3
   },
   "file_extension": ".py",
   "mimetype": "text/x-python",
   "name": "python",
   "nbconvert_exporter": "python",
   "pygments_lexer": "ipython3",
   "version": "3.6.8"
  }
 },
 "nbformat": 4,
 "nbformat_minor": 5
}
